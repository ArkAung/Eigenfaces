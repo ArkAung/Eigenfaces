{
 "metadata": {
  "name": "",
  "signature": "sha256:701077602a09ffbe79616d1d9874b20d581354c6fdbd4254837764e8feaf0cf2"
 },
 "nbformat": 3,
 "nbformat_minor": 0,
 "worksheets": [
  {
   "cells": [
    {
     "cell_type": "markdown",
     "metadata": {},
     "source": [
      "#Generate Eigenfaces from smile data"
     ]
    },
    {
     "cell_type": "code",
     "collapsed": false,
     "input": [
      "import numpy as np\n",
      "import matplotlib.pyplot as plt\n",
      "\n",
      "def genEigFaces(faces, k):\n",
      "    samples  = faces.shape[0]\n",
      "    dimensions = faces.shape[1]\n",
      "    vecMean = np.mean(faces, axis=0)\n",
      "    matMean = np.tile(vecMean,samples).reshape(samples,dimensions)\n",
      "    faces = faces - matMean\n",
      "    cov = np.cov(faces.T)\n",
      "    eigValues, eigVectors = np.linalg.eig(cov)\n",
      "    idx = eigValues.argsort()[::-1]   \n",
      "    eigValues  = eigValues[idx]\n",
      "    eigVectors  = eigVectors[:,idx]\n",
      "    selEigVec = eigVectors[:,k]\n",
      "    #eigVectors[:, eigValues.argmax()]\n",
      "    return selEigVec\n",
      "\n",
      "\n",
      "\n",
      "if __name__ == \"__main__\":\n",
      "    # Load data\n",
      "    if ('trainingFaces' not in globals()):  # In ipython, use \"run -i homework2_template.py\" to avoid re-loading of data\n",
      "        trainingFaces = np.load(\"trainingFaces.npy\")\n",
      "        trainingLabels = np.load(\"trainingLabels.npy\")\n",
      "        testingFaces = np.load(\"testingFaces.npy\")\n",
      "        testingLabels = np.load(\"testingLabels.npy\")\n",
      "\n",
      "\n",
      "    eigVectors = generateEigVectors(trainingFaces)\n",
      "    reEig = np.reshape(eigVectors[0], (24,24))\n",
      "    eigFaces = genEigFaces(trainingFaces, 2)\n",
      "    reshaped_eigFaces = np.reshape(eigFaces[:,1],(24,24))\n",
      "    real_reshaped = real(reshaped_eigFaces)\n",
      "    img = plt.imshow(real_reshaped, cmap='gray')\n",
      "    plt.show()"
     ],
     "language": "python",
     "metadata": {},
     "outputs": []
    }
   ],
   "metadata": {}
  }
 ]
}