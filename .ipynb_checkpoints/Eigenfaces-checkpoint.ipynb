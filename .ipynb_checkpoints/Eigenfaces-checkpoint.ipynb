{
 "metadata": {
  "name": "",
  "signature": "sha256:139539e8791978cdcb9fb55591199617a179009088a2abab00aed9604b15df53"
 },
 "nbformat": 3,
 "nbformat_minor": 0,
 "worksheets": [
  {
   "cells": [
    {
     "cell_type": "markdown",
     "metadata": {},
     "source": [
      "#Generate Eigenfaces from smile data"
     ]
    },
    {
     "cell_type": "code",
     "collapsed": false,
     "input": [
      "%matplotlib inline\n",
      "import numpy as np\n",
      "import matplotlib.pyplot as plt\n",
      "\n",
      "def genEigVectors(faces):\n",
      "    samples  = faces.shape[0]\n",
      "    dimensions = faces.shape[1]\n",
      "    vecMean = np.mean(faces, axis=0)\n",
      "    matMean = np.tile(vecMean,samples).reshape(samples,dimensions)\n",
      "    faces = faces - matMean\n",
      "    cov = np.cov(faces.T)\n",
      "    eigValues, eigVectors = np.linalg.eig(cov)\n",
      "    idx = eigValues.argsort()[::-1]   \n",
      "    eigValues  = eigValues[idx]\n",
      "    eigVectors  = eigVectors[:,idx]\n",
      "    return eigVectors\n",
      "\n",
      "def filterFaces(faces, labels, faceType):\n",
      "    if (faceType == 'smile'):\n",
      "        idx = np.where(labels == 1)\n",
      "        return faces[idx], labels[idx]\n",
      "    elif (faceType == 'nonsmile'):\n",
      "        idx = np.where(labels == 0)\n",
      "        return faces[idx], labels[idx]\n",
      "    else:\n",
      "        return faces, labels\n",
      "    return\n",
      "\n",
      "\n",
      "if __name__ == \"__main__\":\n",
      "    # Load data\n",
      "    if ('trainingFaces' not in globals()):  # In ipython, use \"run -i homework2_template.py\" to avoid re-loading of data\n",
      "        trainingFaces = np.load(\"trainingFaces.npy\")\n",
      "        trainingLabels = np.load(\"trainingLabels.npy\")\n",
      "        testingFaces = np.load(\"testingFaces.npy\")\n",
      "        testingLabels = np.load(\"testingLabels.npy\")\n",
      "\n",
      "    smilingFaces, smilingLabels = filterFaces(trainingFaces, trainingLabels, 'smile')\n",
      "    eigFaces = genEigVectors(smilingFaces)\n",
      "\n",
      "    reshaped_eigFaces1 = np.reshape(eigFaces[:,1],(24,24))\n",
      "    real_reshaped1 = np.real(reshaped_eigFaces1)\n",
      "#     img_1 = plt.imshow(real_reshaped1, cmap='gray')\n",
      "    \n",
      "    reshaped_eigFaces2 = np.reshape(eigFaces[:,2],(24,24))\n",
      "    real_reshaped2 = np.real(reshaped_eigFaces2)\n",
      "#     img_2 = plt.imshow(real_reshaped2, cmap='gray')\n",
      "\n",
      "    plot_image = np.concatenate((real_reshaped1, real_reshaped2), axis=1)\n",
      "\n",
      "    plt.imshow(plot_imag, cmap='gray')"
     ],
     "language": "python",
     "metadata": {},
     "outputs": [
      {
       "ename": "NameError",
       "evalue": "name 'plot_imag' is not defined",
       "output_type": "pyerr",
       "traceback": [
        "\u001b[0;31m---------------------------------------------------------------------------\u001b[0m\n\u001b[0;31mNameError\u001b[0m                                 Traceback (most recent call last)",
        "\u001b[0;32m<ipython-input-43-7f91de26d7e1>\u001b[0m in \u001b[0;36m<module>\u001b[0;34m()\u001b[0m\n\u001b[1;32m     49\u001b[0m     \u001b[0mplot_image\u001b[0m \u001b[0;34m=\u001b[0m \u001b[0mnp\u001b[0m\u001b[0;34m.\u001b[0m\u001b[0mconcatenate\u001b[0m\u001b[0;34m(\u001b[0m\u001b[0;34m(\u001b[0m\u001b[0mreal_reshaped1\u001b[0m\u001b[0;34m,\u001b[0m \u001b[0mreal_reshaped2\u001b[0m\u001b[0;34m)\u001b[0m\u001b[0;34m,\u001b[0m \u001b[0maxis\u001b[0m\u001b[0;34m=\u001b[0m\u001b[0;36m1\u001b[0m\u001b[0;34m)\u001b[0m\u001b[0;34m\u001b[0m\u001b[0m\n\u001b[1;32m     50\u001b[0m \u001b[0;34m\u001b[0m\u001b[0m\n\u001b[0;32m---> 51\u001b[0;31m     \u001b[0mplt\u001b[0m\u001b[0;34m.\u001b[0m\u001b[0mimshow\u001b[0m\u001b[0;34m(\u001b[0m\u001b[0mplot_imag\u001b[0m\u001b[0;34m,\u001b[0m \u001b[0mcmap\u001b[0m\u001b[0;34m=\u001b[0m\u001b[0;34m'gray'\u001b[0m\u001b[0;34m)\u001b[0m\u001b[0;34m\u001b[0m\u001b[0m\n\u001b[0m",
        "\u001b[0;31mNameError\u001b[0m: name 'plot_imag' is not defined"
       ]
      }
     ],
     "prompt_number": 43
    }
   ],
   "metadata": {}
  }
 ]
}